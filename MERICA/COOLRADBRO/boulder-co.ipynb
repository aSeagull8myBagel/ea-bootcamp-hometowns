{
 "cells": [
  {
   "cell_type": "markdown",
   "id": "filled-consultation",
   "metadata": {},
   "source": [
    "# Boulder, COOLRADBRO\n",
    "40.0150° N, 105.2705° W\n",
    "\n",
    "## Population \n",
    "[105,673](https://en.wikipedia.org/wiki/Boulder,_Colorado)\n",
    "\n",
    "### Landmark \n",
    "![FLATTIES](flatties.jpg)\n",
    "Flat irons, hogbacks, chosspiles, scrambleooskies, whatever u wanna call them"
   ]
  },
  {
   "cell_type": "code",
   "execution_count": null,
   "id": "annual-moses",
   "metadata": {},
   "outputs": [],
   "source": []
  }
 ],
 "metadata": {
  "kernelspec": {
   "display_name": "Python 3",
   "language": "python",
   "name": "python3"
  },
  "language_info": {
   "codemirror_mode": {
    "name": "ipython",
    "version": 3
   },
   "file_extension": ".py",
   "mimetype": "text/x-python",
   "name": "python",
   "nbconvert_exporter": "python",
   "pygments_lexer": "ipython3",
   "version": "3.8.8"
  }
 },
 "nbformat": 4,
 "nbformat_minor": 5
}
